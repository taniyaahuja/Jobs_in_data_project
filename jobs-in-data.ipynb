{
 "cells": [
  {
   "cell_type": "markdown",
   "id": "74ec00f1",
   "metadata": {
    "papermill": {
     "duration": 0.013454,
     "end_time": "2024-02-07T08:22:35.092794",
     "exception": false,
     "start_time": "2024-02-07T08:22:35.079340",
     "status": "completed"
    },
    "tags": []
   },
   "source": [
    "**Importing necessary libraries**"
   ]
  },
  {
   "cell_type": "code",
   "execution_count": 1,
   "id": "fd1d94a5",
   "metadata": {
    "execution": {
     "iopub.execute_input": "2024-02-07T08:22:35.120486Z",
     "iopub.status.busy": "2024-02-07T08:22:35.119745Z",
     "iopub.status.idle": "2024-02-07T08:22:36.112113Z",
     "shell.execute_reply": "2024-02-07T08:22:36.110930Z"
    },
    "papermill": {
     "duration": 1.010611,
     "end_time": "2024-02-07T08:22:36.116130",
     "exception": false,
     "start_time": "2024-02-07T08:22:35.105519",
     "status": "completed"
    },
    "tags": []
   },
   "outputs": [],
   "source": [
    "import numpy as np # linear algebra\n",
    "import pandas as pd # data processing, CSV file I/O (e.g. pd.read_csv)\n",
    "import matplotlib.pyplot as plt # data visualisation"
   ]
  },
  {
   "cell_type": "markdown",
   "id": "2cda8af7",
   "metadata": {
    "papermill": {
     "duration": 0.012739,
     "end_time": "2024-02-07T08:22:36.147352",
     "exception": false,
     "start_time": "2024-02-07T08:22:36.134613",
     "status": "completed"
    },
    "tags": []
   },
   "source": [
    "**We load the dataset on Jobs in data**"
   ]
  },
  {
   "cell_type": "code",
   "execution_count": 2,
   "id": "0bdf7ce9",
   "metadata": {
    "execution": {
     "iopub.execute_input": "2024-02-07T08:22:36.180177Z",
     "iopub.status.busy": "2024-02-07T08:22:36.178719Z",
     "iopub.status.idle": "2024-02-07T08:22:36.294070Z",
     "shell.execute_reply": "2024-02-07T08:22:36.292922Z"
    },
    "papermill": {
     "duration": 0.134765,
     "end_time": "2024-02-07T08:22:36.296704",
     "exception": false,
     "start_time": "2024-02-07T08:22:36.161939",
     "status": "completed"
    },
    "tags": []
   },
   "outputs": [
    {
     "data": {
      "text/html": [
       "<div>\n",
       "<style scoped>\n",
       "    .dataframe tbody tr th:only-of-type {\n",
       "        vertical-align: middle;\n",
       "    }\n",
       "\n",
       "    .dataframe tbody tr th {\n",
       "        vertical-align: top;\n",
       "    }\n",
       "\n",
       "    .dataframe thead th {\n",
       "        text-align: right;\n",
       "    }\n",
       "</style>\n",
       "<table border=\"1\" class=\"dataframe\">\n",
       "  <thead>\n",
       "    <tr style=\"text-align: right;\">\n",
       "      <th></th>\n",
       "      <th>work_year</th>\n",
       "      <th>job_title</th>\n",
       "      <th>job_category</th>\n",
       "      <th>salary_currency</th>\n",
       "      <th>salary</th>\n",
       "      <th>salary_in_usd</th>\n",
       "      <th>employee_residence</th>\n",
       "      <th>experience_level</th>\n",
       "      <th>employment_type</th>\n",
       "      <th>work_setting</th>\n",
       "      <th>company_location</th>\n",
       "      <th>company_size</th>\n",
       "    </tr>\n",
       "  </thead>\n",
       "  <tbody>\n",
       "    <tr>\n",
       "      <th>0</th>\n",
       "      <td>2023</td>\n",
       "      <td>Data DevOps Engineer</td>\n",
       "      <td>Data Engineering</td>\n",
       "      <td>EUR</td>\n",
       "      <td>88000</td>\n",
       "      <td>95012</td>\n",
       "      <td>Germany</td>\n",
       "      <td>Mid-level</td>\n",
       "      <td>Full-time</td>\n",
       "      <td>Hybrid</td>\n",
       "      <td>Germany</td>\n",
       "      <td>L</td>\n",
       "    </tr>\n",
       "    <tr>\n",
       "      <th>1</th>\n",
       "      <td>2023</td>\n",
       "      <td>Data Architect</td>\n",
       "      <td>Data Architecture and Modeling</td>\n",
       "      <td>USD</td>\n",
       "      <td>186000</td>\n",
       "      <td>186000</td>\n",
       "      <td>United States</td>\n",
       "      <td>Senior</td>\n",
       "      <td>Full-time</td>\n",
       "      <td>In-person</td>\n",
       "      <td>United States</td>\n",
       "      <td>M</td>\n",
       "    </tr>\n",
       "    <tr>\n",
       "      <th>2</th>\n",
       "      <td>2023</td>\n",
       "      <td>Data Architect</td>\n",
       "      <td>Data Architecture and Modeling</td>\n",
       "      <td>USD</td>\n",
       "      <td>81800</td>\n",
       "      <td>81800</td>\n",
       "      <td>United States</td>\n",
       "      <td>Senior</td>\n",
       "      <td>Full-time</td>\n",
       "      <td>In-person</td>\n",
       "      <td>United States</td>\n",
       "      <td>M</td>\n",
       "    </tr>\n",
       "    <tr>\n",
       "      <th>3</th>\n",
       "      <td>2023</td>\n",
       "      <td>Data Scientist</td>\n",
       "      <td>Data Science and Research</td>\n",
       "      <td>USD</td>\n",
       "      <td>212000</td>\n",
       "      <td>212000</td>\n",
       "      <td>United States</td>\n",
       "      <td>Senior</td>\n",
       "      <td>Full-time</td>\n",
       "      <td>In-person</td>\n",
       "      <td>United States</td>\n",
       "      <td>M</td>\n",
       "    </tr>\n",
       "    <tr>\n",
       "      <th>4</th>\n",
       "      <td>2023</td>\n",
       "      <td>Data Scientist</td>\n",
       "      <td>Data Science and Research</td>\n",
       "      <td>USD</td>\n",
       "      <td>93300</td>\n",
       "      <td>93300</td>\n",
       "      <td>United States</td>\n",
       "      <td>Senior</td>\n",
       "      <td>Full-time</td>\n",
       "      <td>In-person</td>\n",
       "      <td>United States</td>\n",
       "      <td>M</td>\n",
       "    </tr>\n",
       "    <tr>\n",
       "      <th>...</th>\n",
       "      <td>...</td>\n",
       "      <td>...</td>\n",
       "      <td>...</td>\n",
       "      <td>...</td>\n",
       "      <td>...</td>\n",
       "      <td>...</td>\n",
       "      <td>...</td>\n",
       "      <td>...</td>\n",
       "      <td>...</td>\n",
       "      <td>...</td>\n",
       "      <td>...</td>\n",
       "      <td>...</td>\n",
       "    </tr>\n",
       "    <tr>\n",
       "      <th>9350</th>\n",
       "      <td>2021</td>\n",
       "      <td>Data Specialist</td>\n",
       "      <td>Data Management and Strategy</td>\n",
       "      <td>USD</td>\n",
       "      <td>165000</td>\n",
       "      <td>165000</td>\n",
       "      <td>United States</td>\n",
       "      <td>Senior</td>\n",
       "      <td>Full-time</td>\n",
       "      <td>Remote</td>\n",
       "      <td>United States</td>\n",
       "      <td>L</td>\n",
       "    </tr>\n",
       "    <tr>\n",
       "      <th>9351</th>\n",
       "      <td>2020</td>\n",
       "      <td>Data Scientist</td>\n",
       "      <td>Data Science and Research</td>\n",
       "      <td>USD</td>\n",
       "      <td>412000</td>\n",
       "      <td>412000</td>\n",
       "      <td>United States</td>\n",
       "      <td>Senior</td>\n",
       "      <td>Full-time</td>\n",
       "      <td>Remote</td>\n",
       "      <td>United States</td>\n",
       "      <td>L</td>\n",
       "    </tr>\n",
       "    <tr>\n",
       "      <th>9352</th>\n",
       "      <td>2021</td>\n",
       "      <td>Principal Data Scientist</td>\n",
       "      <td>Data Science and Research</td>\n",
       "      <td>USD</td>\n",
       "      <td>151000</td>\n",
       "      <td>151000</td>\n",
       "      <td>United States</td>\n",
       "      <td>Mid-level</td>\n",
       "      <td>Full-time</td>\n",
       "      <td>Remote</td>\n",
       "      <td>United States</td>\n",
       "      <td>L</td>\n",
       "    </tr>\n",
       "    <tr>\n",
       "      <th>9353</th>\n",
       "      <td>2020</td>\n",
       "      <td>Data Scientist</td>\n",
       "      <td>Data Science and Research</td>\n",
       "      <td>USD</td>\n",
       "      <td>105000</td>\n",
       "      <td>105000</td>\n",
       "      <td>United States</td>\n",
       "      <td>Entry-level</td>\n",
       "      <td>Full-time</td>\n",
       "      <td>Remote</td>\n",
       "      <td>United States</td>\n",
       "      <td>S</td>\n",
       "    </tr>\n",
       "    <tr>\n",
       "      <th>9354</th>\n",
       "      <td>2020</td>\n",
       "      <td>Business Data Analyst</td>\n",
       "      <td>Data Analysis</td>\n",
       "      <td>USD</td>\n",
       "      <td>100000</td>\n",
       "      <td>100000</td>\n",
       "      <td>United States</td>\n",
       "      <td>Entry-level</td>\n",
       "      <td>Contract</td>\n",
       "      <td>Remote</td>\n",
       "      <td>United States</td>\n",
       "      <td>L</td>\n",
       "    </tr>\n",
       "  </tbody>\n",
       "</table>\n",
       "<p>9355 rows × 12 columns</p>\n",
       "</div>"
      ],
      "text/plain": [
       "      work_year                 job_title                    job_category  \\\n",
       "0          2023      Data DevOps Engineer                Data Engineering   \n",
       "1          2023            Data Architect  Data Architecture and Modeling   \n",
       "2          2023            Data Architect  Data Architecture and Modeling   \n",
       "3          2023            Data Scientist       Data Science and Research   \n",
       "4          2023            Data Scientist       Data Science and Research   \n",
       "...         ...                       ...                             ...   \n",
       "9350       2021           Data Specialist    Data Management and Strategy   \n",
       "9351       2020            Data Scientist       Data Science and Research   \n",
       "9352       2021  Principal Data Scientist       Data Science and Research   \n",
       "9353       2020            Data Scientist       Data Science and Research   \n",
       "9354       2020     Business Data Analyst                   Data Analysis   \n",
       "\n",
       "     salary_currency  salary  salary_in_usd employee_residence  \\\n",
       "0                EUR   88000          95012            Germany   \n",
       "1                USD  186000         186000      United States   \n",
       "2                USD   81800          81800      United States   \n",
       "3                USD  212000         212000      United States   \n",
       "4                USD   93300          93300      United States   \n",
       "...              ...     ...            ...                ...   \n",
       "9350             USD  165000         165000      United States   \n",
       "9351             USD  412000         412000      United States   \n",
       "9352             USD  151000         151000      United States   \n",
       "9353             USD  105000         105000      United States   \n",
       "9354             USD  100000         100000      United States   \n",
       "\n",
       "     experience_level employment_type work_setting company_location  \\\n",
       "0           Mid-level       Full-time       Hybrid          Germany   \n",
       "1              Senior       Full-time    In-person    United States   \n",
       "2              Senior       Full-time    In-person    United States   \n",
       "3              Senior       Full-time    In-person    United States   \n",
       "4              Senior       Full-time    In-person    United States   \n",
       "...               ...             ...          ...              ...   \n",
       "9350           Senior       Full-time       Remote    United States   \n",
       "9351           Senior       Full-time       Remote    United States   \n",
       "9352        Mid-level       Full-time       Remote    United States   \n",
       "9353      Entry-level       Full-time       Remote    United States   \n",
       "9354      Entry-level        Contract       Remote    United States   \n",
       "\n",
       "     company_size  \n",
       "0               L  \n",
       "1               M  \n",
       "2               M  \n",
       "3               M  \n",
       "4               M  \n",
       "...           ...  \n",
       "9350            L  \n",
       "9351            L  \n",
       "9352            L  \n",
       "9353            S  \n",
       "9354            L  \n",
       "\n",
       "[9355 rows x 12 columns]"
      ]
     },
     "execution_count": 2,
     "metadata": {},
     "output_type": "execute_result"
    }
   ],
   "source": [
    "a= pd.read_csv(\"/kaggle/input/jobs-in-data/jobs_in_data.csv\")\n",
    "a"
   ]
  },
  {
   "cell_type": "markdown",
   "id": "aebde370",
   "metadata": {
    "papermill": {
     "duration": 0.012371,
     "end_time": "2024-02-07T08:22:36.322606",
     "exception": false,
     "start_time": "2024-02-07T08:22:36.310235",
     "status": "completed"
    },
    "tags": []
   },
   "source": [
    "**Displaying the first 5 rows of the dataset to understand the data better.**"
   ]
  },
  {
   "cell_type": "code",
   "execution_count": 3,
   "id": "21291fcc",
   "metadata": {
    "execution": {
     "iopub.execute_input": "2024-02-07T08:22:36.357964Z",
     "iopub.status.busy": "2024-02-07T08:22:36.357453Z",
     "iopub.status.idle": "2024-02-07T08:22:36.379954Z",
     "shell.execute_reply": "2024-02-07T08:22:36.378948Z"
    },
    "papermill": {
     "duration": 0.04355,
     "end_time": "2024-02-07T08:22:36.382137",
     "exception": false,
     "start_time": "2024-02-07T08:22:36.338587",
     "status": "completed"
    },
    "tags": []
   },
   "outputs": [
    {
     "data": {
      "text/html": [
       "<div>\n",
       "<style scoped>\n",
       "    .dataframe tbody tr th:only-of-type {\n",
       "        vertical-align: middle;\n",
       "    }\n",
       "\n",
       "    .dataframe tbody tr th {\n",
       "        vertical-align: top;\n",
       "    }\n",
       "\n",
       "    .dataframe thead th {\n",
       "        text-align: right;\n",
       "    }\n",
       "</style>\n",
       "<table border=\"1\" class=\"dataframe\">\n",
       "  <thead>\n",
       "    <tr style=\"text-align: right;\">\n",
       "      <th></th>\n",
       "      <th>work_year</th>\n",
       "      <th>job_title</th>\n",
       "      <th>job_category</th>\n",
       "      <th>salary_currency</th>\n",
       "      <th>salary</th>\n",
       "      <th>salary_in_usd</th>\n",
       "      <th>employee_residence</th>\n",
       "      <th>experience_level</th>\n",
       "      <th>employment_type</th>\n",
       "      <th>work_setting</th>\n",
       "      <th>company_location</th>\n",
       "      <th>company_size</th>\n",
       "    </tr>\n",
       "  </thead>\n",
       "  <tbody>\n",
       "    <tr>\n",
       "      <th>0</th>\n",
       "      <td>2023</td>\n",
       "      <td>Data DevOps Engineer</td>\n",
       "      <td>Data Engineering</td>\n",
       "      <td>EUR</td>\n",
       "      <td>88000</td>\n",
       "      <td>95012</td>\n",
       "      <td>Germany</td>\n",
       "      <td>Mid-level</td>\n",
       "      <td>Full-time</td>\n",
       "      <td>Hybrid</td>\n",
       "      <td>Germany</td>\n",
       "      <td>L</td>\n",
       "    </tr>\n",
       "    <tr>\n",
       "      <th>1</th>\n",
       "      <td>2023</td>\n",
       "      <td>Data Architect</td>\n",
       "      <td>Data Architecture and Modeling</td>\n",
       "      <td>USD</td>\n",
       "      <td>186000</td>\n",
       "      <td>186000</td>\n",
       "      <td>United States</td>\n",
       "      <td>Senior</td>\n",
       "      <td>Full-time</td>\n",
       "      <td>In-person</td>\n",
       "      <td>United States</td>\n",
       "      <td>M</td>\n",
       "    </tr>\n",
       "    <tr>\n",
       "      <th>2</th>\n",
       "      <td>2023</td>\n",
       "      <td>Data Architect</td>\n",
       "      <td>Data Architecture and Modeling</td>\n",
       "      <td>USD</td>\n",
       "      <td>81800</td>\n",
       "      <td>81800</td>\n",
       "      <td>United States</td>\n",
       "      <td>Senior</td>\n",
       "      <td>Full-time</td>\n",
       "      <td>In-person</td>\n",
       "      <td>United States</td>\n",
       "      <td>M</td>\n",
       "    </tr>\n",
       "    <tr>\n",
       "      <th>3</th>\n",
       "      <td>2023</td>\n",
       "      <td>Data Scientist</td>\n",
       "      <td>Data Science and Research</td>\n",
       "      <td>USD</td>\n",
       "      <td>212000</td>\n",
       "      <td>212000</td>\n",
       "      <td>United States</td>\n",
       "      <td>Senior</td>\n",
       "      <td>Full-time</td>\n",
       "      <td>In-person</td>\n",
       "      <td>United States</td>\n",
       "      <td>M</td>\n",
       "    </tr>\n",
       "    <tr>\n",
       "      <th>4</th>\n",
       "      <td>2023</td>\n",
       "      <td>Data Scientist</td>\n",
       "      <td>Data Science and Research</td>\n",
       "      <td>USD</td>\n",
       "      <td>93300</td>\n",
       "      <td>93300</td>\n",
       "      <td>United States</td>\n",
       "      <td>Senior</td>\n",
       "      <td>Full-time</td>\n",
       "      <td>In-person</td>\n",
       "      <td>United States</td>\n",
       "      <td>M</td>\n",
       "    </tr>\n",
       "  </tbody>\n",
       "</table>\n",
       "</div>"
      ],
      "text/plain": [
       "   work_year             job_title                    job_category  \\\n",
       "0       2023  Data DevOps Engineer                Data Engineering   \n",
       "1       2023        Data Architect  Data Architecture and Modeling   \n",
       "2       2023        Data Architect  Data Architecture and Modeling   \n",
       "3       2023        Data Scientist       Data Science and Research   \n",
       "4       2023        Data Scientist       Data Science and Research   \n",
       "\n",
       "  salary_currency  salary  salary_in_usd employee_residence experience_level  \\\n",
       "0             EUR   88000          95012            Germany        Mid-level   \n",
       "1             USD  186000         186000      United States           Senior   \n",
       "2             USD   81800          81800      United States           Senior   \n",
       "3             USD  212000         212000      United States           Senior   \n",
       "4             USD   93300          93300      United States           Senior   \n",
       "\n",
       "  employment_type work_setting company_location company_size  \n",
       "0       Full-time       Hybrid          Germany            L  \n",
       "1       Full-time    In-person    United States            M  \n",
       "2       Full-time    In-person    United States            M  \n",
       "3       Full-time    In-person    United States            M  \n",
       "4       Full-time    In-person    United States            M  "
      ]
     },
     "execution_count": 3,
     "metadata": {},
     "output_type": "execute_result"
    }
   ],
   "source": [
    "a.head()"
   ]
  },
  {
   "cell_type": "markdown",
   "id": "883162ab",
   "metadata": {
    "papermill": {
     "duration": 0.013066,
     "end_time": "2024-02-07T08:22:36.408645",
     "exception": false,
     "start_time": "2024-02-07T08:22:36.395579",
     "status": "completed"
    },
    "tags": []
   },
   "source": [
    "**Basic information about the dataset**"
   ]
  },
  {
   "cell_type": "code",
   "execution_count": 4,
   "id": "788fce9b",
   "metadata": {
    "execution": {
     "iopub.execute_input": "2024-02-07T08:22:36.445404Z",
     "iopub.status.busy": "2024-02-07T08:22:36.444686Z",
     "iopub.status.idle": "2024-02-07T08:22:36.499821Z",
     "shell.execute_reply": "2024-02-07T08:22:36.497508Z"
    },
    "papermill": {
     "duration": 0.079901,
     "end_time": "2024-02-07T08:22:36.503346",
     "exception": false,
     "start_time": "2024-02-07T08:22:36.423445",
     "status": "completed"
    },
    "tags": []
   },
   "outputs": [
    {
     "name": "stdout",
     "output_type": "stream",
     "text": [
      "<class 'pandas.core.frame.DataFrame'>\n",
      "RangeIndex: 9355 entries, 0 to 9354\n",
      "Data columns (total 12 columns):\n",
      " #   Column              Non-Null Count  Dtype \n",
      "---  ------              --------------  ----- \n",
      " 0   work_year           9355 non-null   int64 \n",
      " 1   job_title           9355 non-null   object\n",
      " 2   job_category        9355 non-null   object\n",
      " 3   salary_currency     9355 non-null   object\n",
      " 4   salary              9355 non-null   int64 \n",
      " 5   salary_in_usd       9355 non-null   int64 \n",
      " 6   employee_residence  9355 non-null   object\n",
      " 7   experience_level    9355 non-null   object\n",
      " 8   employment_type     9355 non-null   object\n",
      " 9   work_setting        9355 non-null   object\n",
      " 10  company_location    9355 non-null   object\n",
      " 11  company_size        9355 non-null   object\n",
      "dtypes: int64(3), object(9)\n",
      "memory usage: 877.2+ KB\n"
     ]
    }
   ],
   "source": [
    "a.info()"
   ]
  },
  {
   "cell_type": "markdown",
   "id": "28251c66",
   "metadata": {
    "papermill": {
     "duration": 0.013625,
     "end_time": "2024-02-07T08:22:36.535851",
     "exception": false,
     "start_time": "2024-02-07T08:22:36.522226",
     "status": "completed"
    },
    "tags": []
   },
   "source": [
    "**Statistical description**"
   ]
  },
  {
   "cell_type": "code",
   "execution_count": 5,
   "id": "dc015be0",
   "metadata": {
    "execution": {
     "iopub.execute_input": "2024-02-07T08:22:36.567738Z",
     "iopub.status.busy": "2024-02-07T08:22:36.566346Z",
     "iopub.status.idle": "2024-02-07T08:22:36.598364Z",
     "shell.execute_reply": "2024-02-07T08:22:36.596293Z"
    },
    "papermill": {
     "duration": 0.051664,
     "end_time": "2024-02-07T08:22:36.603192",
     "exception": false,
     "start_time": "2024-02-07T08:22:36.551528",
     "status": "completed"
    },
    "tags": []
   },
   "outputs": [
    {
     "data": {
      "text/html": [
       "<div>\n",
       "<style scoped>\n",
       "    .dataframe tbody tr th:only-of-type {\n",
       "        vertical-align: middle;\n",
       "    }\n",
       "\n",
       "    .dataframe tbody tr th {\n",
       "        vertical-align: top;\n",
       "    }\n",
       "\n",
       "    .dataframe thead th {\n",
       "        text-align: right;\n",
       "    }\n",
       "</style>\n",
       "<table border=\"1\" class=\"dataframe\">\n",
       "  <thead>\n",
       "    <tr style=\"text-align: right;\">\n",
       "      <th></th>\n",
       "      <th>work_year</th>\n",
       "      <th>salary</th>\n",
       "      <th>salary_in_usd</th>\n",
       "    </tr>\n",
       "  </thead>\n",
       "  <tbody>\n",
       "    <tr>\n",
       "      <th>count</th>\n",
       "      <td>9355.000000</td>\n",
       "      <td>9355.000000</td>\n",
       "      <td>9355.000000</td>\n",
       "    </tr>\n",
       "    <tr>\n",
       "      <th>mean</th>\n",
       "      <td>2022.760449</td>\n",
       "      <td>149927.981293</td>\n",
       "      <td>150299.495564</td>\n",
       "    </tr>\n",
       "    <tr>\n",
       "      <th>std</th>\n",
       "      <td>0.519470</td>\n",
       "      <td>63608.835387</td>\n",
       "      <td>63177.372024</td>\n",
       "    </tr>\n",
       "    <tr>\n",
       "      <th>min</th>\n",
       "      <td>2020.000000</td>\n",
       "      <td>14000.000000</td>\n",
       "      <td>15000.000000</td>\n",
       "    </tr>\n",
       "    <tr>\n",
       "      <th>25%</th>\n",
       "      <td>2023.000000</td>\n",
       "      <td>105200.000000</td>\n",
       "      <td>105700.000000</td>\n",
       "    </tr>\n",
       "    <tr>\n",
       "      <th>50%</th>\n",
       "      <td>2023.000000</td>\n",
       "      <td>143860.000000</td>\n",
       "      <td>143000.000000</td>\n",
       "    </tr>\n",
       "    <tr>\n",
       "      <th>75%</th>\n",
       "      <td>2023.000000</td>\n",
       "      <td>187000.000000</td>\n",
       "      <td>186723.000000</td>\n",
       "    </tr>\n",
       "    <tr>\n",
       "      <th>max</th>\n",
       "      <td>2023.000000</td>\n",
       "      <td>450000.000000</td>\n",
       "      <td>450000.000000</td>\n",
       "    </tr>\n",
       "  </tbody>\n",
       "</table>\n",
       "</div>"
      ],
      "text/plain": [
       "         work_year         salary  salary_in_usd\n",
       "count  9355.000000    9355.000000    9355.000000\n",
       "mean   2022.760449  149927.981293  150299.495564\n",
       "std       0.519470   63608.835387   63177.372024\n",
       "min    2020.000000   14000.000000   15000.000000\n",
       "25%    2023.000000  105200.000000  105700.000000\n",
       "50%    2023.000000  143860.000000  143000.000000\n",
       "75%    2023.000000  187000.000000  186723.000000\n",
       "max    2023.000000  450000.000000  450000.000000"
      ]
     },
     "execution_count": 5,
     "metadata": {},
     "output_type": "execute_result"
    }
   ],
   "source": [
    "a.describe()"
   ]
  },
  {
   "cell_type": "markdown",
   "id": "5e916b8a",
   "metadata": {
    "papermill": {
     "duration": 0.020942,
     "end_time": "2024-02-07T08:22:36.647254",
     "exception": false,
     "start_time": "2024-02-07T08:22:36.626312",
     "status": "completed"
    },
    "tags": []
   },
   "source": [
    "# Data Cleaning"
   ]
  },
  {
   "cell_type": "markdown",
   "id": "20f5f1db",
   "metadata": {
    "papermill": {
     "duration": 0.016909,
     "end_time": "2024-02-07T08:22:36.681874",
     "exception": false,
     "start_time": "2024-02-07T08:22:36.664965",
     "status": "completed"
    },
    "tags": []
   },
   "source": [
    "**Checking for null values in the dataset**"
   ]
  },
  {
   "cell_type": "code",
   "execution_count": 6,
   "id": "7216adb3",
   "metadata": {
    "execution": {
     "iopub.execute_input": "2024-02-07T08:22:36.730364Z",
     "iopub.status.busy": "2024-02-07T08:22:36.726300Z",
     "iopub.status.idle": "2024-02-07T08:22:36.758252Z",
     "shell.execute_reply": "2024-02-07T08:22:36.756802Z"
    },
    "papermill": {
     "duration": 0.061497,
     "end_time": "2024-02-07T08:22:36.762608",
     "exception": false,
     "start_time": "2024-02-07T08:22:36.701111",
     "status": "completed"
    },
    "tags": []
   },
   "outputs": [
    {
     "data": {
      "text/plain": [
       "work_year             0\n",
       "job_title             0\n",
       "job_category          0\n",
       "salary_currency       0\n",
       "salary                0\n",
       "salary_in_usd         0\n",
       "employee_residence    0\n",
       "experience_level      0\n",
       "employment_type       0\n",
       "work_setting          0\n",
       "company_location      0\n",
       "company_size          0\n",
       "dtype: int64"
      ]
     },
     "execution_count": 6,
     "metadata": {},
     "output_type": "execute_result"
    }
   ],
   "source": [
    "mask1= a.isnull().sum()\n",
    "mask1"
   ]
  },
  {
   "cell_type": "markdown",
   "id": "d702312b",
   "metadata": {
    "papermill": {
     "duration": 0.013494,
     "end_time": "2024-02-07T08:22:36.796021",
     "exception": false,
     "start_time": "2024-02-07T08:22:36.782527",
     "status": "completed"
    },
    "tags": []
   },
   "source": [
    "**Checking for the unique values and then changing the datatype so that the memory usage is optimal**"
   ]
  },
  {
   "cell_type": "code",
   "execution_count": 7,
   "id": "664ea9a1",
   "metadata": {
    "execution": {
     "iopub.execute_input": "2024-02-07T08:22:36.826930Z",
     "iopub.status.busy": "2024-02-07T08:22:36.826399Z",
     "iopub.status.idle": "2024-02-07T08:22:36.837143Z",
     "shell.execute_reply": "2024-02-07T08:22:36.835652Z"
    },
    "papermill": {
     "duration": 0.030001,
     "end_time": "2024-02-07T08:22:36.840037",
     "exception": false,
     "start_time": "2024-02-07T08:22:36.810036",
     "status": "completed"
    },
    "tags": []
   },
   "outputs": [
    {
     "data": {
      "text/plain": [
       "array(['Hybrid', 'In-person', 'Remote'], dtype=object)"
      ]
     },
     "execution_count": 7,
     "metadata": {},
     "output_type": "execute_result"
    }
   ],
   "source": [
    "a[\"work_setting\"].unique()"
   ]
  },
  {
   "cell_type": "code",
   "execution_count": 8,
   "id": "47c5ea5e",
   "metadata": {
    "execution": {
     "iopub.execute_input": "2024-02-07T08:22:36.881437Z",
     "iopub.status.busy": "2024-02-07T08:22:36.880558Z",
     "iopub.status.idle": "2024-02-07T08:22:36.890488Z",
     "shell.execute_reply": "2024-02-07T08:22:36.889016Z"
    },
    "papermill": {
     "duration": 0.035059,
     "end_time": "2024-02-07T08:22:36.894635",
     "exception": false,
     "start_time": "2024-02-07T08:22:36.859576",
     "status": "completed"
    },
    "tags": []
   },
   "outputs": [
    {
     "data": {
      "text/plain": [
       "array(['EUR', 'USD', 'GBP', 'CAD', 'AUD', 'PLN', 'BRL', 'TRY', 'CHF',\n",
       "       'SGD', 'DKK'], dtype=object)"
      ]
     },
     "execution_count": 8,
     "metadata": {},
     "output_type": "execute_result"
    }
   ],
   "source": [
    "a[\"salary_currency\"].unique()"
   ]
  },
  {
   "cell_type": "code",
   "execution_count": 9,
   "id": "5efb6ee6",
   "metadata": {
    "execution": {
     "iopub.execute_input": "2024-02-07T08:22:36.939099Z",
     "iopub.status.busy": "2024-02-07T08:22:36.938081Z",
     "iopub.status.idle": "2024-02-07T08:22:36.948181Z",
     "shell.execute_reply": "2024-02-07T08:22:36.946881Z"
    },
    "papermill": {
     "duration": 0.035166,
     "end_time": "2024-02-07T08:22:36.950730",
     "exception": false,
     "start_time": "2024-02-07T08:22:36.915564",
     "status": "completed"
    },
    "tags": []
   },
   "outputs": [
    {
     "data": {
      "text/plain": [
       "array(['Mid-level', 'Senior', 'Executive', 'Entry-level'], dtype=object)"
      ]
     },
     "execution_count": 9,
     "metadata": {},
     "output_type": "execute_result"
    }
   ],
   "source": [
    "a[\"experience_level\"].unique()"
   ]
  },
  {
   "cell_type": "code",
   "execution_count": 10,
   "id": "c2728d83",
   "metadata": {
    "execution": {
     "iopub.execute_input": "2024-02-07T08:22:36.982890Z",
     "iopub.status.busy": "2024-02-07T08:22:36.981460Z",
     "iopub.status.idle": "2024-02-07T08:22:36.992397Z",
     "shell.execute_reply": "2024-02-07T08:22:36.991042Z"
    },
    "papermill": {
     "duration": 0.02988,
     "end_time": "2024-02-07T08:22:36.994850",
     "exception": false,
     "start_time": "2024-02-07T08:22:36.964970",
     "status": "completed"
    },
    "tags": []
   },
   "outputs": [
    {
     "data": {
      "text/plain": [
       "array(['Full-time', 'Part-time', 'Contract', 'Freelance'], dtype=object)"
      ]
     },
     "execution_count": 10,
     "metadata": {},
     "output_type": "execute_result"
    }
   ],
   "source": [
    "a[\"employment_type\"].unique()"
   ]
  },
  {
   "cell_type": "code",
   "execution_count": 11,
   "id": "6f2b745c",
   "metadata": {
    "execution": {
     "iopub.execute_input": "2024-02-07T08:22:37.030032Z",
     "iopub.status.busy": "2024-02-07T08:22:37.028511Z",
     "iopub.status.idle": "2024-02-07T08:22:37.037907Z",
     "shell.execute_reply": "2024-02-07T08:22:37.036846Z"
    },
    "papermill": {
     "duration": 0.029566,
     "end_time": "2024-02-07T08:22:37.041025",
     "exception": false,
     "start_time": "2024-02-07T08:22:37.011459",
     "status": "completed"
    },
    "tags": []
   },
   "outputs": [
    {
     "data": {
      "text/plain": [
       "array(['L', 'M', 'S'], dtype=object)"
      ]
     },
     "execution_count": 11,
     "metadata": {},
     "output_type": "execute_result"
    }
   ],
   "source": [
    "a[\"company_size\"].unique()"
   ]
  },
  {
   "cell_type": "code",
   "execution_count": 12,
   "id": "5676e9ec",
   "metadata": {
    "execution": {
     "iopub.execute_input": "2024-02-07T08:22:37.073640Z",
     "iopub.status.busy": "2024-02-07T08:22:37.072162Z",
     "iopub.status.idle": "2024-02-07T08:22:37.092609Z",
     "shell.execute_reply": "2024-02-07T08:22:37.091706Z"
    },
    "papermill": {
     "duration": 0.040328,
     "end_time": "2024-02-07T08:22:37.096163",
     "exception": false,
     "start_time": "2024-02-07T08:22:37.055835",
     "status": "completed"
    },
    "tags": []
   },
   "outputs": [],
   "source": [
    "a[\"work_setting\"]= a[\"work_setting\"].astype(\"category\")\n",
    "a[\"salary_currency\"]= a[\"salary_currency\"].astype(\"category\")\n",
    "a[\"experience_level\"]= a[\"experience_level\"].astype(\"category\")\n",
    "a[\"employment_type\"]= a[\"employment_type\"].astype(\"category\")\n",
    "a[\"company_size\"]= a[\"company_size\"].astype(\"category\")"
   ]
  },
  {
   "cell_type": "code",
   "execution_count": 13,
   "id": "11bebf7a",
   "metadata": {
    "execution": {
     "iopub.execute_input": "2024-02-07T08:22:37.133014Z",
     "iopub.status.busy": "2024-02-07T08:22:37.131137Z",
     "iopub.status.idle": "2024-02-07T08:22:37.154299Z",
     "shell.execute_reply": "2024-02-07T08:22:37.153333Z"
    },
    "papermill": {
     "duration": 0.043568,
     "end_time": "2024-02-07T08:22:37.158047",
     "exception": false,
     "start_time": "2024-02-07T08:22:37.114479",
     "status": "completed"
    },
    "tags": []
   },
   "outputs": [
    {
     "name": "stdout",
     "output_type": "stream",
     "text": [
      "<class 'pandas.core.frame.DataFrame'>\n",
      "RangeIndex: 9355 entries, 0 to 9354\n",
      "Data columns (total 12 columns):\n",
      " #   Column              Non-Null Count  Dtype   \n",
      "---  ------              --------------  -----   \n",
      " 0   work_year           9355 non-null   int64   \n",
      " 1   job_title           9355 non-null   object  \n",
      " 2   job_category        9355 non-null   object  \n",
      " 3   salary_currency     9355 non-null   category\n",
      " 4   salary              9355 non-null   int64   \n",
      " 5   salary_in_usd       9355 non-null   int64   \n",
      " 6   employee_residence  9355 non-null   object  \n",
      " 7   experience_level    9355 non-null   category\n",
      " 8   employment_type     9355 non-null   category\n",
      " 9   work_setting        9355 non-null   category\n",
      " 10  company_location    9355 non-null   object  \n",
      " 11  company_size        9355 non-null   category\n",
      "dtypes: category(5), int64(3), object(4)\n",
      "memory usage: 558.4+ KB\n"
     ]
    }
   ],
   "source": [
    "a.info()"
   ]
  },
  {
   "cell_type": "code",
   "execution_count": 14,
   "id": "2c5f065e",
   "metadata": {
    "execution": {
     "iopub.execute_input": "2024-02-07T08:22:37.194019Z",
     "iopub.status.busy": "2024-02-07T08:22:37.193316Z",
     "iopub.status.idle": "2024-02-07T08:22:37.230413Z",
     "shell.execute_reply": "2024-02-07T08:22:37.229266Z"
    },
    "papermill": {
     "duration": 0.056322,
     "end_time": "2024-02-07T08:22:37.233140",
     "exception": false,
     "start_time": "2024-02-07T08:22:37.176818",
     "status": "completed"
    },
    "tags": []
   },
   "outputs": [
    {
     "data": {
      "text/html": [
       "<div>\n",
       "<style scoped>\n",
       "    .dataframe tbody tr th:only-of-type {\n",
       "        vertical-align: middle;\n",
       "    }\n",
       "\n",
       "    .dataframe tbody tr th {\n",
       "        vertical-align: top;\n",
       "    }\n",
       "\n",
       "    .dataframe thead th {\n",
       "        text-align: right;\n",
       "    }\n",
       "</style>\n",
       "<table border=\"1\" class=\"dataframe\">\n",
       "  <thead>\n",
       "    <tr style=\"text-align: right;\">\n",
       "      <th></th>\n",
       "      <th>work_year</th>\n",
       "      <th>job_title</th>\n",
       "      <th>job_category</th>\n",
       "      <th>salary_currency</th>\n",
       "      <th>salary</th>\n",
       "      <th>salary_in_usd</th>\n",
       "      <th>employee_residence</th>\n",
       "      <th>experience_level</th>\n",
       "      <th>employment_type</th>\n",
       "      <th>work_setting</th>\n",
       "      <th>company_location</th>\n",
       "      <th>company_size</th>\n",
       "    </tr>\n",
       "  </thead>\n",
       "  <tbody>\n",
       "    <tr>\n",
       "      <th>0</th>\n",
       "      <td>2023</td>\n",
       "      <td>Data DevOps Engineer</td>\n",
       "      <td>Data Engineering</td>\n",
       "      <td>EUR</td>\n",
       "      <td>88000</td>\n",
       "      <td>95012</td>\n",
       "      <td>Germany</td>\n",
       "      <td>Mid-level</td>\n",
       "      <td>Full-time</td>\n",
       "      <td>Hybrid</td>\n",
       "      <td>Germany</td>\n",
       "      <td>L</td>\n",
       "    </tr>\n",
       "    <tr>\n",
       "      <th>4976</th>\n",
       "      <td>2023</td>\n",
       "      <td>Research Scientist</td>\n",
       "      <td>Data Science and Research</td>\n",
       "      <td>USD</td>\n",
       "      <td>280000</td>\n",
       "      <td>280000</td>\n",
       "      <td>United Kingdom</td>\n",
       "      <td>Mid-level</td>\n",
       "      <td>Full-time</td>\n",
       "      <td>Hybrid</td>\n",
       "      <td>United Kingdom</td>\n",
       "      <td>L</td>\n",
       "    </tr>\n",
       "    <tr>\n",
       "      <th>4988</th>\n",
       "      <td>2023</td>\n",
       "      <td>Machine Learning Engineer</td>\n",
       "      <td>Machine Learning and AI</td>\n",
       "      <td>USD</td>\n",
       "      <td>142200</td>\n",
       "      <td>142200</td>\n",
       "      <td>United States</td>\n",
       "      <td>Senior</td>\n",
       "      <td>Full-time</td>\n",
       "      <td>In-person</td>\n",
       "      <td>United States</td>\n",
       "      <td>M</td>\n",
       "    </tr>\n",
       "    <tr>\n",
       "      <th>4987</th>\n",
       "      <td>2023</td>\n",
       "      <td>Machine Learning Engineer</td>\n",
       "      <td>Machine Learning and AI</td>\n",
       "      <td>USD</td>\n",
       "      <td>204500</td>\n",
       "      <td>204500</td>\n",
       "      <td>United States</td>\n",
       "      <td>Senior</td>\n",
       "      <td>Full-time</td>\n",
       "      <td>In-person</td>\n",
       "      <td>United States</td>\n",
       "      <td>M</td>\n",
       "    </tr>\n",
       "    <tr>\n",
       "      <th>4986</th>\n",
       "      <td>2023</td>\n",
       "      <td>Applied Scientist</td>\n",
       "      <td>Data Science and Research</td>\n",
       "      <td>USD</td>\n",
       "      <td>136000</td>\n",
       "      <td>136000</td>\n",
       "      <td>United States</td>\n",
       "      <td>Senior</td>\n",
       "      <td>Full-time</td>\n",
       "      <td>In-person</td>\n",
       "      <td>United States</td>\n",
       "      <td>L</td>\n",
       "    </tr>\n",
       "    <tr>\n",
       "      <th>...</th>\n",
       "      <td>...</td>\n",
       "      <td>...</td>\n",
       "      <td>...</td>\n",
       "      <td>...</td>\n",
       "      <td>...</td>\n",
       "      <td>...</td>\n",
       "      <td>...</td>\n",
       "      <td>...</td>\n",
       "      <td>...</td>\n",
       "      <td>...</td>\n",
       "      <td>...</td>\n",
       "      <td>...</td>\n",
       "    </tr>\n",
       "    <tr>\n",
       "      <th>9149</th>\n",
       "      <td>2020</td>\n",
       "      <td>Big Data Engineer</td>\n",
       "      <td>Data Engineering</td>\n",
       "      <td>USD</td>\n",
       "      <td>70000</td>\n",
       "      <td>70000</td>\n",
       "      <td>United States</td>\n",
       "      <td>Entry-level</td>\n",
       "      <td>Full-time</td>\n",
       "      <td>Remote</td>\n",
       "      <td>United States</td>\n",
       "      <td>L</td>\n",
       "    </tr>\n",
       "    <tr>\n",
       "      <th>9152</th>\n",
       "      <td>2020</td>\n",
       "      <td>Data Scientist</td>\n",
       "      <td>Data Science and Research</td>\n",
       "      <td>EUR</td>\n",
       "      <td>60000</td>\n",
       "      <td>68428</td>\n",
       "      <td>Greece</td>\n",
       "      <td>Senior</td>\n",
       "      <td>Full-time</td>\n",
       "      <td>Remote</td>\n",
       "      <td>United States</td>\n",
       "      <td>L</td>\n",
       "    </tr>\n",
       "    <tr>\n",
       "      <th>9255</th>\n",
       "      <td>2020</td>\n",
       "      <td>Data Analyst</td>\n",
       "      <td>Data Analysis</td>\n",
       "      <td>USD</td>\n",
       "      <td>72000</td>\n",
       "      <td>72000</td>\n",
       "      <td>United States</td>\n",
       "      <td>Entry-level</td>\n",
       "      <td>Full-time</td>\n",
       "      <td>Remote</td>\n",
       "      <td>United States</td>\n",
       "      <td>L</td>\n",
       "    </tr>\n",
       "    <tr>\n",
       "      <th>9157</th>\n",
       "      <td>2020</td>\n",
       "      <td>Research Scientist</td>\n",
       "      <td>Data Science and Research</td>\n",
       "      <td>USD</td>\n",
       "      <td>450000</td>\n",
       "      <td>450000</td>\n",
       "      <td>United States</td>\n",
       "      <td>Mid-level</td>\n",
       "      <td>Full-time</td>\n",
       "      <td>In-person</td>\n",
       "      <td>United States</td>\n",
       "      <td>M</td>\n",
       "    </tr>\n",
       "    <tr>\n",
       "      <th>9354</th>\n",
       "      <td>2020</td>\n",
       "      <td>Business Data Analyst</td>\n",
       "      <td>Data Analysis</td>\n",
       "      <td>USD</td>\n",
       "      <td>100000</td>\n",
       "      <td>100000</td>\n",
       "      <td>United States</td>\n",
       "      <td>Entry-level</td>\n",
       "      <td>Contract</td>\n",
       "      <td>Remote</td>\n",
       "      <td>United States</td>\n",
       "      <td>L</td>\n",
       "    </tr>\n",
       "  </tbody>\n",
       "</table>\n",
       "<p>9355 rows × 12 columns</p>\n",
       "</div>"
      ],
      "text/plain": [
       "      work_year                  job_title               job_category  \\\n",
       "0          2023       Data DevOps Engineer           Data Engineering   \n",
       "4976       2023         Research Scientist  Data Science and Research   \n",
       "4988       2023  Machine Learning Engineer    Machine Learning and AI   \n",
       "4987       2023  Machine Learning Engineer    Machine Learning and AI   \n",
       "4986       2023          Applied Scientist  Data Science and Research   \n",
       "...         ...                        ...                        ...   \n",
       "9149       2020          Big Data Engineer           Data Engineering   \n",
       "9152       2020             Data Scientist  Data Science and Research   \n",
       "9255       2020               Data Analyst              Data Analysis   \n",
       "9157       2020         Research Scientist  Data Science and Research   \n",
       "9354       2020      Business Data Analyst              Data Analysis   \n",
       "\n",
       "     salary_currency  salary  salary_in_usd employee_residence  \\\n",
       "0                EUR   88000          95012            Germany   \n",
       "4976             USD  280000         280000     United Kingdom   \n",
       "4988             USD  142200         142200      United States   \n",
       "4987             USD  204500         204500      United States   \n",
       "4986             USD  136000         136000      United States   \n",
       "...              ...     ...            ...                ...   \n",
       "9149             USD   70000          70000      United States   \n",
       "9152             EUR   60000          68428             Greece   \n",
       "9255             USD   72000          72000      United States   \n",
       "9157             USD  450000         450000      United States   \n",
       "9354             USD  100000         100000      United States   \n",
       "\n",
       "     experience_level employment_type work_setting company_location  \\\n",
       "0           Mid-level       Full-time       Hybrid          Germany   \n",
       "4976        Mid-level       Full-time       Hybrid   United Kingdom   \n",
       "4988           Senior       Full-time    In-person    United States   \n",
       "4987           Senior       Full-time    In-person    United States   \n",
       "4986           Senior       Full-time    In-person    United States   \n",
       "...               ...             ...          ...              ...   \n",
       "9149      Entry-level       Full-time       Remote    United States   \n",
       "9152           Senior       Full-time       Remote    United States   \n",
       "9255      Entry-level       Full-time       Remote    United States   \n",
       "9157        Mid-level       Full-time    In-person    United States   \n",
       "9354      Entry-level        Contract       Remote    United States   \n",
       "\n",
       "     company_size  \n",
       "0               L  \n",
       "4976            L  \n",
       "4988            M  \n",
       "4987            M  \n",
       "4986            L  \n",
       "...           ...  \n",
       "9149            L  \n",
       "9152            L  \n",
       "9255            L  \n",
       "9157            M  \n",
       "9354            L  \n",
       "\n",
       "[9355 rows x 12 columns]"
      ]
     },
     "execution_count": 14,
     "metadata": {},
     "output_type": "execute_result"
    }
   ],
   "source": [
    "a.sort_values(by= \"work_year\", ascending= False)"
   ]
  },
  {
   "cell_type": "markdown",
   "id": "2622b32e",
   "metadata": {
    "papermill": {
     "duration": 0.015146,
     "end_time": "2024-02-07T08:22:37.358157",
     "exception": false,
     "start_time": "2024-02-07T08:22:37.343011",
     "status": "completed"
    },
    "tags": []
   },
   "source": [
    "# About the dataset"
   ]
  },
  {
   "cell_type": "markdown",
   "id": "2c7a1186",
   "metadata": {
    "papermill": {
     "duration": 0.014766,
     "end_time": "2024-02-07T08:22:37.388679",
     "exception": false,
     "start_time": "2024-02-07T08:22:37.373913",
     "status": "completed"
    },
    "tags": []
   },
   "source": [
    "**Average salary (USD) wrt the employment type**"
   ]
  },
  {
   "cell_type": "code",
   "execution_count": 15,
   "id": "c8986995",
   "metadata": {
    "execution": {
     "iopub.execute_input": "2024-02-07T08:22:37.421979Z",
     "iopub.status.busy": "2024-02-07T08:22:37.421114Z",
     "iopub.status.idle": "2024-02-07T08:22:37.436091Z",
     "shell.execute_reply": "2024-02-07T08:22:37.434882Z"
    },
    "papermill": {
     "duration": 0.034932,
     "end_time": "2024-02-07T08:22:37.439077",
     "exception": false,
     "start_time": "2024-02-07T08:22:37.404145",
     "status": "completed"
    },
    "tags": []
   },
   "outputs": [
    {
     "data": {
      "text/plain": [
       "employment_type\n",
       "Full-time    150630.092052\n",
       "Contract     117109.368421\n",
       "Part-time     57866.066667\n",
       "Freelance     53868.636364\n",
       "Name: salary_in_usd, dtype: float64"
      ]
     },
     "execution_count": 15,
     "metadata": {},
     "output_type": "execute_result"
    }
   ],
   "source": [
    "d1= a.groupby(\"employment_type\")[\"salary_in_usd\"].mean().sort_values(ascending=False)\n",
    "d1"
   ]
  },
  {
   "cell_type": "markdown",
   "id": "ffc5c1be",
   "metadata": {
    "papermill": {
     "duration": 0.015169,
     "end_time": "2024-02-07T08:22:37.469731",
     "exception": false,
     "start_time": "2024-02-07T08:22:37.454562",
     "status": "completed"
    },
    "tags": []
   },
   "source": [
    "**Count of jobs wrt work setting**"
   ]
  },
  {
   "cell_type": "code",
   "execution_count": 16,
   "id": "2b33ee58",
   "metadata": {
    "execution": {
     "iopub.execute_input": "2024-02-07T08:22:37.502448Z",
     "iopub.status.busy": "2024-02-07T08:22:37.502059Z",
     "iopub.status.idle": "2024-02-07T08:22:37.514108Z",
     "shell.execute_reply": "2024-02-07T08:22:37.512634Z"
    },
    "papermill": {
     "duration": 0.031248,
     "end_time": "2024-02-07T08:22:37.517161",
     "exception": false,
     "start_time": "2024-02-07T08:22:37.485913",
     "status": "completed"
    },
    "tags": []
   },
   "outputs": [
    {
     "data": {
      "text/plain": [
       "work_setting\n",
       "In-person    5730\n",
       "Remote       3434\n",
       "Hybrid        191\n",
       "Name: count, dtype: int64"
      ]
     },
     "execution_count": 16,
     "metadata": {},
     "output_type": "execute_result"
    }
   ],
   "source": [
    "w= a[\"work_setting\"].value_counts()\n",
    "w"
   ]
  },
  {
   "cell_type": "markdown",
   "id": "595cfcac",
   "metadata": {
    "papermill": {
     "duration": 0.014633,
     "end_time": "2024-02-07T08:22:37.547220",
     "exception": false,
     "start_time": "2024-02-07T08:22:37.532587",
     "status": "completed"
    },
    "tags": []
   },
   "source": [
    "# 1. Distribution of Salary (USD)"
   ]
  },
  {
   "cell_type": "code",
   "execution_count": 17,
   "id": "97b0d6ae",
   "metadata": {
    "execution": {
     "iopub.execute_input": "2024-02-07T08:22:37.578769Z",
     "iopub.status.busy": "2024-02-07T08:22:37.578387Z",
     "iopub.status.idle": "2024-02-07T08:22:37.957314Z",
     "shell.execute_reply": "2024-02-07T08:22:37.956260Z"
    },
    "papermill": {
     "duration": 0.397456,
     "end_time": "2024-02-07T08:22:37.959664",
     "exception": false,
     "start_time": "2024-02-07T08:22:37.562208",
     "status": "completed"
    },
    "tags": []
   },
   "outputs": [
    {
     "data": {
      "image/png": "[encoded data removed]",
      "text/plain": [
       "<Figure size 1200x600 with 1 Axes>"
      ]
     },
     "metadata": {},
     "output_type": "display_data"
    }
   ],
   "source": [
    "plt.figure(figsize=(12, 6))\n",
    "plt.hist(a[\"salary_in_usd\"], color= \"steelblue\", edgecolor=\"black\")\n",
    "plt.title(\"Distribution of Salary (USD)\")\n",
    "plt.xlabel(\"Salary\")\n",
    "plt.ylabel(\"Frequency\")\n",
    "plt.show()"
   ]
  },
  {
   "cell_type": "markdown",
   "id": "d346eb86",
   "metadata": {
    "papermill": {
     "duration": 0.015376,
     "end_time": "2024-02-07T08:22:37.990797",
     "exception": false,
     "start_time": "2024-02-07T08:22:37.975421",
     "status": "completed"
    },
    "tags": []
   },
   "source": [
    "Findings in (1):\n",
    "* The distribution of salaries is fairly even, with a slight positive skew. This means there are more people earning salaries closer to the average than there are people earning very high or very low salaries.\n",
    "* The Salary is mostly between USD 100000 and USD 200000, the mean being around USD 150000\n",
    "* The frequency for salary above USD 300000 is low"
   ]
  },
  {
   "cell_type": "markdown",
   "id": "696f99aa",
   "metadata": {
    "papermill": {
     "duration": 0.015556,
     "end_time": "2024-02-07T08:22:38.024829",
     "exception": false,
     "start_time": "2024-02-07T08:22:38.009273",
     "status": "completed"
    },
    "tags": []
   },
   "source": [
    "# 2. Experience Level of employees"
   ]
  },
  {
   "cell_type": "code",
   "execution_count": 18,
   "id": "7ecadb17",
   "metadata": {
    "execution": {
     "iopub.execute_input": "2024-02-07T08:22:38.058552Z",
     "iopub.status.busy": "2024-02-07T08:22:38.058052Z",
     "iopub.status.idle": "2024-02-07T08:22:38.254571Z",
     "shell.execute_reply": "2024-02-07T08:22:38.252906Z"
    },
    "papermill": {
     "duration": 0.218369,
     "end_time": "2024-02-07T08:22:38.258761",
     "exception": false,
     "start_time": "2024-02-07T08:22:38.040392",
     "status": "completed"
    },
    "tags": []
   },
   "outputs": [
    {
     "data": {
      "image/png": "[encoded data removed]",
      "text/plain": [
       "<Figure size 640x480 with 1 Axes>"
      ]
     },
     "metadata": {},
     "output_type": "display_data"
    }
   ],
   "source": [
    "e= a[\"experience_level\"].value_counts()\n",
    "plt.pie(e, autopct='%.1f%%', labels= e.index, colors= [\"lightcoral\",\"indianred\",\"brown\",\"maroon\"])\n",
    "plt.title(\"Distribution of Experience level\")\n",
    "plt.show()"
   ]
  },
  {
   "cell_type": "markdown",
   "id": "53438973",
   "metadata": {
    "papermill": {
     "duration": 0.017532,
     "end_time": "2024-02-07T08:22:38.309984",
     "exception": false,
     "start_time": "2024-02-07T08:22:38.292452",
     "status": "completed"
    },
    "tags": []
   },
   "source": [
    "Findings in (2):\n",
    "* Senior-level employees make up the largest portion of the workforce at 71.7%.\n",
    "* Executives comprise 5.3% of the workforce. This is a relatively small percentage.\n",
    "* Entry-level employees account for 20.0% of the workforce. This is a notable presence of new hires, potentially indicating recent growth or a focus on bringing in fresh talent.\n",
    "* Mid-level employees make up the smallest portion at 3.0%. This suggests a limited number of employees in middle management positions"
   ]
  },
  {
   "cell_type": "markdown",
   "id": "316ede5f",
   "metadata": {
    "papermill": {
     "duration": 0.015543,
     "end_time": "2024-02-07T08:22:38.341511",
     "exception": false,
     "start_time": "2024-02-07T08:22:38.325968",
     "status": "completed"
    },
    "tags": []
   },
   "source": [
    "# 3. Job Count by Category"
   ]
  },
  {
   "cell_type": "code",
   "execution_count": 19,
   "id": "4ec4de67",
   "metadata": {
    "execution": {
     "iopub.execute_input": "2024-02-07T08:22:38.376025Z",
     "iopub.status.busy": "2024-02-07T08:22:38.375276Z",
     "iopub.status.idle": "2024-02-07T08:22:38.776313Z",
     "shell.execute_reply": "2024-02-07T08:22:38.775348Z"
    },
    "papermill": {
     "duration": 0.422002,
     "end_time": "2024-02-07T08:22:38.779457",
     "exception": false,
     "start_time": "2024-02-07T08:22:38.357455",
     "status": "completed"
    },
    "tags": []
   },
   "outputs": [
    {
     "data": {
      "image/png": "[encoded data removed]",
      "text/plain": [
       "<Figure size 1200x600 with 1 Axes>"
      ]
     },
     "metadata": {},
     "output_type": "display_data"
    }
   ],
   "source": [
    "lc= a[\"job_category\"].value_counts()\n",
    "lu= a[\"job_category\"].unique()\n",
    "\n",
    "plt.figure(figsize=(12, 6))\n",
    "plt.bar(lu,lc, color= \"salmon\", edgecolor=\"black\")\n",
    "plt.title(\"Job Count by Category\")\n",
    "plt.xlabel(\"Job Category\")\n",
    "plt.ylabel(\"Job Count\")\n",
    "plt.xticks(rotation=90)\n",
    "plt.show()"
   ]
  },
  {
   "cell_type": "markdown",
   "id": "6c948e3e",
   "metadata": {
    "papermill": {
     "duration": 0.019161,
     "end_time": "2024-02-07T08:22:38.817387",
     "exception": false,
     "start_time": "2024-02-07T08:22:38.798226",
     "status": "completed"
    },
    "tags": []
   },
   "source": [
    "Findings in (3):\n",
    "* The graph shows a varied distribution of job counts across different categories. This suggests that there is not a single dominant job category, but rather a mix of different roles.\n",
    "* Data Engineering is the most common job cateogory, with nearly 3000 job postings. "
   ]
  },
  {
   "cell_type": "markdown",
   "id": "5c04d2b2",
   "metadata": {
    "papermill": {
     "duration": 0.018202,
     "end_time": "2024-02-07T08:22:38.854794",
     "exception": false,
     "start_time": "2024-02-07T08:22:38.836592",
     "status": "completed"
    },
    "tags": []
   },
   "source": [
    "# 4. Average Salary by Company Size"
   ]
  },
  {
   "cell_type": "code",
   "execution_count": 20,
   "id": "10f90b6b",
   "metadata": {
    "execution": {
     "iopub.execute_input": "2024-02-07T08:22:38.894408Z",
     "iopub.status.busy": "2024-02-07T08:22:38.893671Z",
     "iopub.status.idle": "2024-02-07T08:22:39.188657Z",
     "shell.execute_reply": "2024-02-07T08:22:39.187231Z"
    },
    "papermill": {
     "duration": 0.317685,
     "end_time": "2024-02-07T08:22:39.191800",
     "exception": false,
     "start_time": "2024-02-07T08:22:38.874115",
     "status": "completed"
    },
    "tags": []
   },
   "outputs": [
    {
     "data": {
      "image/png": "[encoded data removed]",
      "text/plain": [
       "<Figure size 1200x600 with 1 Axes>"
      ]
     },
     "metadata": {},
     "output_type": "display_data"
    }
   ],
   "source": [
    "avg_s= a.groupby(\"company_size\")[\"salary_in_usd\"].mean()\n",
    "p= a[\"company_size\"].unique()\n",
    "\n",
    "plt.figure(figsize=(12, 6))\n",
    "plt.bar(p, avg_s, color= [\"lightblue\",\"lightskyblue\",\"deepskyblue\"], edgecolor=\"black\")\n",
    "plt.title(\"Average Salary by Company Size\")\n",
    "plt.xlabel(\"Company Size\")\n",
    "plt.ylabel(\"Average Salary\")\n",
    "plt.show()"
   ]
  },
  {
   "cell_type": "markdown",
   "id": "e9d9c8c2",
   "metadata": {
    "papermill": {
     "duration": 0.018021,
     "end_time": "2024-02-07T08:22:39.228786",
     "exception": false,
     "start_time": "2024-02-07T08:22:39.210765",
     "status": "completed"
    },
    "tags": []
   },
   "source": [
    "Findings in (4):\n",
    "* The average salary increases steadily as company size increases, with the biggest jump occurring between small and medium-sized companies.\n",
    "* A medium sized company has the highest average salary but this may also be because of high income range in larger companies"
   ]
  },
  {
   "cell_type": "markdown",
   "id": "7c8dac7b",
   "metadata": {
    "papermill": {
     "duration": 0.018443,
     "end_time": "2024-02-07T08:22:39.265552",
     "exception": false,
     "start_time": "2024-02-07T08:22:39.247109",
     "status": "completed"
    },
    "tags": []
   },
   "source": [
    "# 5. Relationship between Experience and Salary"
   ]
  },
  {
   "cell_type": "code",
   "execution_count": 21,
   "id": "4dd09aa0",
   "metadata": {
    "execution": {
     "iopub.execute_input": "2024-02-07T08:22:39.306490Z",
     "iopub.status.busy": "2024-02-07T08:22:39.306070Z",
     "iopub.status.idle": "2024-02-07T08:22:39.739517Z",
     "shell.execute_reply": "2024-02-07T08:22:39.738132Z"
    },
    "papermill": {
     "duration": 0.457307,
     "end_time": "2024-02-07T08:22:39.742519",
     "exception": false,
     "start_time": "2024-02-07T08:22:39.285212",
     "status": "completed"
    },
    "tags": []
   },
   "outputs": [
    {
     "data": {
      "image/png": "[encoded data removed]",
      "text/plain": [
       "<Figure size 1200x800 with 1 Axes>"
      ]
     },
     "metadata": {},
     "output_type": "display_data"
    }
   ],
   "source": [
    "plt.figure(figsize=(12, 8))\n",
    "plt.scatter(x=\"experience_level\", y=\"salary_in_usd\", data=a)\n",
    "plt.title(\"Relationship between Experience and Salary\")\n",
    "plt.xlabel(\"Experience Level\")\n",
    "plt.ylabel(\"Salary\")\n",
    "plt.legend()\n",
    "plt.show()"
   ]
  },
  {
   "cell_type": "markdown",
   "id": "ce3491d5",
   "metadata": {
    "papermill": {
     "duration": 0.019436,
     "end_time": "2024-02-07T08:22:39.781509",
     "exception": false,
     "start_time": "2024-02-07T08:22:39.762073",
     "status": "completed"
    },
    "tags": []
   },
   "source": [
    "Findings in (5):\n",
    "* There is a positive correlation between experience level and salary. This means that, on average, workers with more experience tend to earn more than workers with less experience."
   ]
  },
  {
   "cell_type": "markdown",
   "id": "7ea32d1d",
   "metadata": {
    "papermill": {
     "duration": 0.020758,
     "end_time": "2024-02-07T08:22:39.823351",
     "exception": false,
     "start_time": "2024-02-07T08:22:39.802593",
     "status": "completed"
    },
    "tags": []
   },
   "source": [
    "# Conclusion\n",
    "The analysis of the \"Jobs in Data\" dataset provides insights into the job categories and salaries along with the location and company size. After cleaning the data and describing the data briefly, we have done detailed analysis on:\n",
    "1. Distribution of Salary (USD)\n",
    "2. Experience Level of employees\n",
    "3. Job Count by Category\n",
    "4. Average Salary by Company Size\n",
    "5. Relationship between Experience and Salary"
   ]
  }
 ],
 "metadata": {
  "kaggle": {
   "accelerator": "none",
   "dataSources": [
    {
     "datasetId": 4213326,
     "sourceId": 7279972,
     "sourceType": "datasetVersion"
    }
   ],
   "dockerImageVersionId": 30635,
   "isGpuEnabled": false,
   "isInternetEnabled": true,
   "language": "python",
   "sourceType": "notebook"
  },
  "kernelspec": {
   "display_name": "Python 3",
   "language": "python",
   "name": "python3"
  },
  "language_info": {
   "codemirror_mode": {
    "name": "ipython",
    "version": 3
   },
   "file_extension": ".py",
   "mimetype": "text/x-python",
   "name": "python",
   "nbconvert_exporter": "python",
   "pygments_lexer": "ipython3",
   "version": "3.10.12"
  },
  "papermill": {
   "default_parameters": {},
   "duration": 9.987725,
   "end_time": "2024-02-07T08:22:40.567484",
   "environment_variables": {},
   "exception": null,
   "input_path": "__notebook__.ipynb",
   "output_path": "__notebook__.ipynb",
   "parameters": {},
   "start_time": "2024-02-07T08:22:30.579759",
   "version": "2.4.0"
  }
 },
 "nbformat": 4,
 "nbformat_minor": 5
}
